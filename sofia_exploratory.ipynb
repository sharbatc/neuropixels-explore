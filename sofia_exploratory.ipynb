{
 "cells": [
  {
   "cell_type": "markdown",
   "metadata": {},
   "source": [
    "# Exploratory analyses\n",
    "\n",
    "## Notes to self:\n",
    "\n",
    "*Sessions*: Data comes in _sessions_ - where each session is a distinct continuous recording period\n",
    "*AllenSDK*: Tools for accessing/manipulating the Allen data. Metadata and detailed within-session data. \n",
    "\n",
    "_Tools_:\n",
    "`EcephysProjectCache`: Allows you to to identify and access sessions of interest\n"
   ]
  },
  {
   "cell_type": "code",
   "execution_count": null,
   "metadata": {
    "collapsed": true
   },
   "outputs": [],
   "source": []
  }
 ],
 "metadata": {
  "kernelspec": {
   "display_name": "Python 3",
   "language": "python",
   "name": "python3"
  },
  "language_info": {
   "codemirror_mode": {
    "name": "ipython",
    "version": 3
   },
   "file_extension": ".py",
   "mimetype": "text/x-python",
   "name": "python",
   "nbconvert_exporter": "python",
   "pygments_lexer": "ipython3",
   "version": "3.6.3"
  }
 },
 "nbformat": 4,
 "nbformat_minor": 2
}
